{
 "cells": [
  {
   "cell_type": "markdown",
   "metadata": {
    "nbgrader": {
     "grade": false,
     "grade_id": "cell-fa48e7f1b94baa5b",
     "locked": true,
     "schema_version": 1,
     "solution": false
    }
   },
   "source": [
    "# Assignment 1\n",
    "For this assignment you are welcomed to use other regex resources such a regex \"cheat sheets\" you find on the web. Feel free to share good resources with your peers in slack!\n",
    "\n"
   ]
  },
  {
   "cell_type": "markdown",
   "metadata": {
    "nbgrader": {
     "grade": false,
     "grade_id": "cell-d4da7eb9acee2a6d",
     "locked": true,
     "schema_version": 1,
     "solution": false
    }
   },
   "source": [
    "Before start working on the problems, here is a small example to help you understand how to write your own answers. In short, the solution should be written within the function body given, and the final result should be returned. Then the autograder will try to call the function and validate your returned result accordingly. "
   ]
  },
  {
   "cell_type": "code",
   "execution_count": 2,
   "metadata": {
    "nbgrader": {
     "grade": false,
     "grade_id": "cell-4a96535829224b3f",
     "locked": true,
     "schema_version": 1,
     "solution": false
    }
   },
   "outputs": [],
   "source": [
    "def example_word_count():\n",
    "    # This example question requires counting words in the example_string below.\n",
    "    example_string = \"Amy is 5 years old\"\n",
    "    \n",
    "    # YOUR CODE HERE.\n",
    "    # You should write your solution here, and return your result, you can comment out or delete the\n",
    "    # NotImplementedError below.\n",
    "    result = example_string.split(\" \")\n",
    "    return len(result)\n",
    "\n",
    "    #raise NotImplementedError()"
   ]
  },
  {
   "cell_type": "markdown",
   "metadata": {},
   "source": [
    "## Part A\n",
    "\n",
    "Find a list of all of the names in the following string using regex."
   ]
  },
  {
   "cell_type": "code",
   "execution_count": 16,
   "metadata": {
    "nbgrader": {
     "grade": false,
     "grade_id": "names",
     "locked": false,
     "schema_version": 1,
     "solution": true
    }
   },
   "outputs": [],
   "source": [
    "import re\n",
    "def names():\n",
    "    simple_string = \"\"\"Amy is 5 years old, and her sister Mary is 2 years old. \n",
    "    Ruth and Peter, their parents, have 3 kids.\"\"\"\n",
    "\n",
    "    ### BEGIN SOLUTION  \n",
    "    pattern = r'[A-Z][a-z]*'\n",
    "    match = re.findall(pattern, simple_string)\n",
    "    return match\n",
    "\n",
    "    # Alternative answers: \n",
    "    # pattern = r'[A-Z]\\w+'\n",
    "    # pattern = r'[A-Z]\\S+'\n",
    "    \n",
    "    # Hints:\n",
    "    # hint1: names start with capital letters\n",
    "    # hint2: how do you generate a list of matched chunks? :\n",
    "    # use re.findall(pattern, string) \n",
    "    # hint3: ????? <THERE SEEMS TO BE NO HINT 3?>\n",
    "    # hint4: how do you find one or more of particular tokens?\n",
    "    # use +\n",
    "    \n",
    "    ### END SOLUTION"
   ]
  },
  {
   "cell_type": "code",
   "execution_count": 46,
   "metadata": {
    "nbgrader": {
     "grade": true,
     "grade_id": "correct_names",
     "locked": false,
     "points": 1,
     "schema_version": 1,
     "solution": false
    }
   },
   "outputs": [],
   "source": [
    "assert len(names()) == 4, \"There are four names in the simple_string\"\n",
    "\n",
    "### BEGIN HIDDEN TESTS\n",
    "assert ((len(names()[0])>2)&(len(names()[0])>2)&(len(names()[0])>2)&(len(names()[0])>2)) == True, \"Please match all the characters in these names.\"\n",
    "\n",
    "assert ('Amy' in names())== True\n",
    "assert ('Mary' in names())== True\n",
    "assert ('Ruth' in names())== True\n",
    "assert ('Peter' in names())== True\n",
    "### END HIDDEN TESTS"
   ]
  },
  {
   "cell_type": "markdown",
   "metadata": {
    "nbgrader": {
     "grade": false,
     "grade_id": "cell-ed64e3464ddd7ba7",
     "locked": true,
     "schema_version": 1,
     "solution": false
    }
   },
   "source": [
    "## Part B\n",
    "\n",
    "The dataset file in [assets/grades.txt](assets/grades.txt) contains a line separated list of people with their grade in \n",
    "a class. Create a regex to generate a list of just those students who received a B in the course."
   ]
  },
  {
   "cell_type": "code",
   "execution_count": 187,
   "metadata": {
    "nbgrader": {
     "grade": false,
     "grade_id": "grades",
     "locked": false,
     "schema_version": 1,
     "solution": true
    }
   },
   "outputs": [],
   "source": [
    "import re\n",
    "def grades():\n",
    "    with open (\"assets/grades.txt\", \"r\") as file:\n",
    "        grades = file.read()\n",
    "\n",
    "    ### BEGIN SOLUTION\n",
    "    pattern = re.compile(r'\\w+\\s\\w+(?=: B)')\n",
    "    matches = re.findall(pattern,grades)\n",
    "    return matches  \n",
    "\n",
    "    # Alternative answers: \n",
    "    # pattern = \"\"\"(?P<test>\\w+\\s+\\w+): B\"\"\"\n",
    "    \n",
    "    # Hints:\n",
    "    # hint1: What is look ahead in RegEx and how do you use it?\n",
    "    # if you want to find A in front of B, the way how you write a look ahead regex is as follows:\n",
    "    # r'A(?=B)'\n",
    "    # hint2: how do you generate a list of matched chunks? :\n",
    "    # use re.findall(pattern, string) \n",
    "    # hint3: how do you include both spaces and words?\n",
    "    # use both \\w and \\s\n",
    "    # hint4: how do you find one or more of particular tokens?\n",
    "    # use +    \n",
    "\n",
    "    ### END SOLUTION"
   ]
  },
  {
   "cell_type": "code",
   "execution_count": 188,
   "metadata": {
    "nbgrader": {
     "grade": true,
     "grade_id": "correct_grades",
     "locked": false,
     "points": 1,
     "schema_version": 1,
     "solution": false
    }
   },
   "outputs": [],
   "source": [
    "assert len(grades()) == 16\n",
    "\n",
    "### BEGIN HIDDEN TESTS\n",
    "\n",
    "name_list = ['Bell Kassulke',\n",
    " 'Simon Loidl',\n",
    " 'Elias Jovanovic',\n",
    " 'Hakim Botros',\n",
    " 'Emilie Lorentsen',\n",
    " 'Jake Wood',\n",
    " 'Fatemeh Akhtar',\n",
    " 'Kim Weston',\n",
    " 'Yasmin Dar',\n",
    " 'Viswamitra Upandhye',\n",
    " 'Killian Kaufman',\n",
    " 'Elwood Page',\n",
    " 'Elodie Booker',\n",
    " 'Adnan Chen',\n",
    " 'Hank Spinka',\n",
    " 'Hannah Bayer']\n",
    "\n",
    "assert (': B' in grades()[1]) == False, \"Please only return student names.\"\n",
    "assert ('Kassulke' in grades()) == False, \"Please return students' full name.\"\n",
    "for name in name_list:\n",
    "    assert (name in grades())== True, \"Check your name list.\"\n",
    "    \n",
    "### END HIDDEN TESTS"
   ]
  },
  {
   "cell_type": "markdown",
   "metadata": {
    "nbgrader": {
     "grade": false,
     "grade_id": "cell-e253518e37d33f0c",
     "locked": true,
     "schema_version": 1,
     "solution": false
    }
   },
   "source": [
    "## Part C\n",
    "\n",
    "Consider the standard web log file in [assets/logdata.txt](assets/logdata.txt). This file records the access a user makes when visiting a web page (like this one!). Each line of the log has the following items:\n",
    "* a host (e.g., '146.204.224.152') \n",
    "* a user_name (e.g., 'feest6811' **note: sometimes the user name is missing! In this case, use '-' as the value for the username.**)\n",
    "* the time a request was made (e.g., '21/Jun/2019:15:45:24 -0700')\n",
    "* the post request type (e.g., 'POST /incentivize HTTP/1.1' **note: not everything is a POST!**)\n",
    "\n",
    "Your task is to convert this into a list of dictionaries, where each dictionary looks like the following:\n",
    "```\n",
    "example_dict = {\"host\":\"146.204.224.152\", \n",
    "                \"user_name\":\"feest6811\", \n",
    "                \"time\":\"21/Jun/2019:15:45:24 -0700\",\n",
    "                \"request\":\"POST /incentivize HTTP/1.1\"}\n",
    "```"
   ]
  },
  {
   "cell_type": "code",
   "execution_count": 3,
   "metadata": {
    "nbgrader": {
     "grade": false,
     "grade_id": "logs",
     "locked": false,
     "schema_version": 1,
     "solution": true
    }
   },
   "outputs": [],
   "source": [
    "import re\n",
    "def logs():\n",
    "    with open(\"assets/logdata.txt\", \"r\") as file:\n",
    "        logdata = file.read()\n",
    "    \n",
    "    ### BEGIN SOLUTION\n",
    "    pattern = \"\"\"\n",
    "        (?P<host>[\\w\\.]+)             # host %h\n",
    "        \\s\\-\\s(?P<user_name>.*)\\s     # user %u\n",
    "        \\[(?P<time>.+)\\]              # time %t\n",
    "        \\s\\\"(?P<request>.*)\\\"         # request \"%r\"\n",
    "    \"\"\"\n",
    "    result = [item.groupdict() for item in re.finditer(pattern,logdata,re.VERBOSE)]\n",
    "    \n",
    "    return result\n",
    "    \n",
    "    ## Hint:\n",
    "\n",
    "    ## hint1: What is look ahead in RegEx and how do you use it?\n",
    "    ## if you want to find A in front of B, the way how you write a look ahead regex is as follows:\n",
    "    ## r'A(?=B)'\n",
    "\n",
    "    ## hint2: how do you generate a list of matched chunks? :\n",
    "    ## use re.findall(pattern, string) \n",
    "\n",
    "    ## hint3: how do you include both spaces and words?\n",
    "    ## use both \\w and \\s\n",
    "\n",
    "    ## hint4: how do you find one or more of particular tokens?\n",
    "    ## use +\n",
    "\n",
    "    ## hint5: how do you ignore paricular tokens using RegEx look-ahead?\n",
    "    ## Suppose you have string 'AB' don't want to include 'A' and want to detect 'B' only. In this case, you can either\n",
    "    ## A(?P<test>B) or \n",
    "    ## A\n",
    "    ## (?P<test>B)\n",
    "\n",
    "    ## hint6: how do you use write a long regex with comments and linebreaks?\n",
    "    ## use re.VERBOSE    \n",
    "    \n",
    "    ### END SOLUTION"
   ]
  },
  {
   "cell_type": "code",
   "execution_count": 25,
   "metadata": {
    "nbgrader": {
     "grade": true,
     "grade_id": "cell-correct_logs",
     "locked": true,
     "points": 1,
     "schema_version": 1,
     "solution": false
    }
   },
   "outputs": [],
   "source": [
    "assert len(logs()) == 979\n",
    "\n",
    "one_item={'host': '146.204.224.152',\n",
    "  'user_name': 'feest6811',\n",
    "  'time': '21/Jun/2019:15:45:24 -0700',\n",
    "  'request': 'POST /incentivize HTTP/1.1'}\n",
    "assert one_item in logs(), \"Sorry, this item should be in the log results, check your formating\"\n",
    "\n",
    "### BEGIN HIDDEN TESTS\n",
    "assert len(logs()[0:1][0])==4, \"Make sure that each of your dictionary is in the right format. \"\n",
    "\n",
    "tmp3 = [{'host': '146.204.224.152',\n",
    "  'user_name': 'feest6811',\n",
    "  'time': '21/Jun/2019:15:45:24 -0700',\n",
    "  'request': 'POST /incentivize HTTP/1.1'},\n",
    " {'host': '98.143.107.61',\n",
    "  'user_name': 'reilly5813',\n",
    "  'time': '21/Jun/2019:15:54:04 -0700',\n",
    "  'request': 'HEAD /channels HTTP/1.1'},\n",
    " {'host': '93.88.34.132',\n",
    "  'user_name': '-',\n",
    "  'time': '21/Jun/2019:15:49:04 -0700',\n",
    "  'request': 'POST /24%2f365 HTTP/2.0'},\n",
    " {'host': '100.32.205.59',\n",
    "  'user_name': 'ortiz8891',\n",
    "  'time': '21/Jun/2019:15:45:28 -0700',\n",
    "  'request': 'PATCH /architectures HTTP/1.0'},\n",
    " {'host': '168.95.156.240',\n",
    "  'user_name': 'stark2413',\n",
    "  'time': '21/Jun/2019:15:45:31 -0700',\n",
    "  'request': 'GET /engage HTTP/2.0'},\n",
    " {'host': '72.157.89.10',\n",
    "  'user_name': '-',\n",
    "  'time': '21/Jun/2019:15:47:14 -0700',\n",
    "  'request': 'PATCH /clicks-and-mortar/metrics HTTP/1.0'},\n",
    " {'host': '180.95.121.94',\n",
    "  'user_name': 'mohr6893',\n",
    "  'time': '21/Jun/2019:15:45:34 -0700',\n",
    "  'request': 'PATCH /extensible/reinvent HTTP/1.1'},\n",
    " {'host': '144.23.247.108',\n",
    "  'user_name': 'auer7552',\n",
    "  'time': '21/Jun/2019:15:45:35 -0700',\n",
    "  'request': 'POST /extensible/infrastructures/one-to-one/enterprise HTTP/1.1'},\n",
    " {'host': '180.234.185.134',\n",
    "  'user_name': 'windler5463',\n",
    "  'time': '21/Jun/2019:15:46:34 -0700',\n",
    "  'request': 'POST /synergies/innovative/enterprise HTTP/1.1'},\n",
    " {'host': '233.187.15.207',\n",
    "  'user_name': '-',\n",
    "  'time': '21/Jun/2019:15:46:14 -0700',\n",
    "  'request': 'GET /harness/intuitive HTTP/1.0'}]\n",
    "\n",
    "for dic in tmp3:\n",
    "    assert dic in logs(), \"Please include all the records\"\n",
    "### END HIDDEN TESTS"
   ]
  }
 ],
 "metadata": {
  "celltoolbar": "Create Assignment",
  "kernelspec": {
   "display_name": "Python 3",
   "language": "python",
   "name": "python3"
  },
  "language_info": {
   "codemirror_mode": {
    "name": "ipython",
    "version": 3
   },
   "file_extension": ".py",
   "mimetype": "text/x-python",
   "name": "python",
   "nbconvert_exporter": "python",
   "pygments_lexer": "ipython3",
   "version": "3.7.3"
  }
 },
 "nbformat": 4,
 "nbformat_minor": 1
}
